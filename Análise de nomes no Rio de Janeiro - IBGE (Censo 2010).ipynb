{
 "cells": [
  {
   "cell_type": "code",
   "execution_count": 2,
   "id": "f5c39938",
   "metadata": {},
   "outputs": [],
   "source": [
    "import pandas as pd\n",
    "import matplotlib.pyplot as plt\n",
    "import numpy as np"
   ]
  },
  {
   "cell_type": "code",
   "execution_count": 5,
   "id": "ad820812",
   "metadata": {},
   "outputs": [],
   "source": [
    "df = pd.read_csv(\"quantidade_municipio_nome_2010.csv\")"
   ]
  },
  {
   "cell_type": "code",
   "execution_count": 8,
   "id": "d2a2759e",
   "metadata": {},
   "outputs": [
    {
     "data": {
      "text/html": [
       "<div>\n",
       "<style scoped>\n",
       "    .dataframe tbody tr th:only-of-type {\n",
       "        vertical-align: middle;\n",
       "    }\n",
       "\n",
       "    .dataframe tbody tr th {\n",
       "        vertical-align: top;\n",
       "    }\n",
       "\n",
       "    .dataframe thead th {\n",
       "        text-align: right;\n",
       "    }\n",
       "</style>\n",
       "<table border=\"1\" class=\"dataframe\">\n",
       "  <thead>\n",
       "    <tr style=\"text-align: right;\">\n",
       "      <th></th>\n",
       "      <th>id_municipio</th>\n",
       "      <th>nome</th>\n",
       "      <th>quantidade_nascimentos_ate_2010</th>\n",
       "    </tr>\n",
       "  </thead>\n",
       "  <tbody>\n",
       "    <tr>\n",
       "      <th>0</th>\n",
       "      <td>1100015</td>\n",
       "      <td>Adao</td>\n",
       "      <td>36</td>\n",
       "    </tr>\n",
       "    <tr>\n",
       "      <th>1</th>\n",
       "      <td>1100015</td>\n",
       "      <td>Adelina</td>\n",
       "      <td>10</td>\n",
       "    </tr>\n",
       "    <tr>\n",
       "      <th>2</th>\n",
       "      <td>1100015</td>\n",
       "      <td>Adelson</td>\n",
       "      <td>10</td>\n",
       "    </tr>\n",
       "    <tr>\n",
       "      <th>3</th>\n",
       "      <td>1100015</td>\n",
       "      <td>Ademar</td>\n",
       "      <td>19</td>\n",
       "    </tr>\n",
       "    <tr>\n",
       "      <th>4</th>\n",
       "      <td>1100015</td>\n",
       "      <td>Ademir</td>\n",
       "      <td>46</td>\n",
       "    </tr>\n",
       "  </tbody>\n",
       "</table>\n",
       "</div>"
      ],
      "text/plain": [
       "   id_municipio     nome  quantidade_nascimentos_ate_2010\n",
       "0       1100015     Adao                               36\n",
       "1       1100015  Adelina                               10\n",
       "2       1100015  Adelson                               10\n",
       "3       1100015   Ademar                               19\n",
       "4       1100015   Ademir                               46"
      ]
     },
     "execution_count": 8,
     "metadata": {},
     "output_type": "execute_result"
    }
   ],
   "source": [
    "df.head()"
   ]
  },
  {
   "cell_type": "code",
   "execution_count": 12,
   "id": "c44c540f",
   "metadata": {},
   "outputs": [
    {
     "data": {
      "text/plain": [
       "(1959116, 3)"
      ]
     },
     "execution_count": 12,
     "metadata": {},
     "output_type": "execute_result"
    }
   ],
   "source": [
    "df.shape"
   ]
  },
  {
   "cell_type": "code",
   "execution_count": 14,
   "id": "123da5de",
   "metadata": {},
   "outputs": [
    {
     "data": {
      "text/plain": [
       "0"
      ]
     },
     "execution_count": 14,
     "metadata": {},
     "output_type": "execute_result"
    }
   ],
   "source": [
    "df['nome'].isnull().sum()"
   ]
  },
  {
   "cell_type": "code",
   "execution_count": 142,
   "id": "b0fa0591",
   "metadata": {},
   "outputs": [],
   "source": [
    "df2=df.query(\"id_municipio == 3304557\")"
   ]
  },
  {
   "cell_type": "code",
   "execution_count": 143,
   "id": "b64b2b6f",
   "metadata": {},
   "outputs": [
    {
     "data": {
      "text/html": [
       "<div>\n",
       "<style scoped>\n",
       "    .dataframe tbody tr th:only-of-type {\n",
       "        vertical-align: middle;\n",
       "    }\n",
       "\n",
       "    .dataframe tbody tr th {\n",
       "        vertical-align: top;\n",
       "    }\n",
       "\n",
       "    .dataframe thead th {\n",
       "        text-align: right;\n",
       "    }\n",
       "</style>\n",
       "<table border=\"1\" class=\"dataframe\">\n",
       "  <thead>\n",
       "    <tr style=\"text-align: right;\">\n",
       "      <th></th>\n",
       "      <th>id_municipio</th>\n",
       "      <th>nome</th>\n",
       "      <th>quantidade_nascimentos_ate_2010</th>\n",
       "    </tr>\n",
       "  </thead>\n",
       "  <tbody>\n",
       "    <tr>\n",
       "      <th>1101583</th>\n",
       "      <td>3304557</td>\n",
       "      <td>Aana</td>\n",
       "      <td>24</td>\n",
       "    </tr>\n",
       "    <tr>\n",
       "      <th>1101584</th>\n",
       "      <td>3304557</td>\n",
       "      <td>Aarao</td>\n",
       "      <td>22</td>\n",
       "    </tr>\n",
       "    <tr>\n",
       "      <th>1101585</th>\n",
       "      <td>3304557</td>\n",
       "      <td>Aaron</td>\n",
       "      <td>27</td>\n",
       "    </tr>\n",
       "    <tr>\n",
       "      <th>1101586</th>\n",
       "      <td>3304557</td>\n",
       "      <td>Abadia</td>\n",
       "      <td>10</td>\n",
       "    </tr>\n",
       "    <tr>\n",
       "      <th>1101587</th>\n",
       "      <td>3304557</td>\n",
       "      <td>Abdala</td>\n",
       "      <td>10</td>\n",
       "    </tr>\n",
       "  </tbody>\n",
       "</table>\n",
       "</div>"
      ],
      "text/plain": [
       "         id_municipio    nome  quantidade_nascimentos_ate_2010\n",
       "1101583       3304557    Aana                               24\n",
       "1101584       3304557   Aarao                               22\n",
       "1101585       3304557   Aaron                               27\n",
       "1101586       3304557  Abadia                               10\n",
       "1101587       3304557  Abdala                               10"
      ]
     },
     "execution_count": 143,
     "metadata": {},
     "output_type": "execute_result"
    }
   ],
   "source": [
    "df2.head()"
   ]
  },
  {
   "cell_type": "code",
   "execution_count": 144,
   "id": "e1e7cab4",
   "metadata": {},
   "outputs": [],
   "source": [
    "df2 = df2.sort_values(by=['quantidade_nascimentos_ate_2010'], ascending=False)"
   ]
  },
  {
   "cell_type": "code",
   "execution_count": 145,
   "id": "35c97cf7",
   "metadata": {},
   "outputs": [
    {
     "data": {
      "text/html": [
       "<div>\n",
       "<style scoped>\n",
       "    .dataframe tbody tr th:only-of-type {\n",
       "        vertical-align: middle;\n",
       "    }\n",
       "\n",
       "    .dataframe tbody tr th {\n",
       "        vertical-align: top;\n",
       "    }\n",
       "\n",
       "    .dataframe thead th {\n",
       "        text-align: right;\n",
       "    }\n",
       "</style>\n",
       "<table border=\"1\" class=\"dataframe\">\n",
       "  <thead>\n",
       "    <tr style=\"text-align: right;\">\n",
       "      <th></th>\n",
       "      <th>id_municipio</th>\n",
       "      <th>nome</th>\n",
       "      <th>quantidade_nascimentos_ate_2010</th>\n",
       "    </tr>\n",
       "  </thead>\n",
       "  <tbody>\n",
       "    <tr>\n",
       "      <th>1111664</th>\n",
       "      <td>3304557</td>\n",
       "      <td>Maria</td>\n",
       "      <td>307018</td>\n",
       "    </tr>\n",
       "    <tr>\n",
       "      <th>1102623</th>\n",
       "      <td>3304557</td>\n",
       "      <td>Ana</td>\n",
       "      <td>120449</td>\n",
       "    </tr>\n",
       "    <tr>\n",
       "      <th>1109597</th>\n",
       "      <td>3304557</td>\n",
       "      <td>Jose</td>\n",
       "      <td>118239</td>\n",
       "    </tr>\n",
       "    <tr>\n",
       "      <th>1109351</th>\n",
       "      <td>3304557</td>\n",
       "      <td>Joao</td>\n",
       "      <td>78940</td>\n",
       "    </tr>\n",
       "    <tr>\n",
       "      <th>1103650</th>\n",
       "      <td>3304557</td>\n",
       "      <td>Carlos</td>\n",
       "      <td>73759</td>\n",
       "    </tr>\n",
       "  </tbody>\n",
       "</table>\n",
       "</div>"
      ],
      "text/plain": [
       "         id_municipio    nome  quantidade_nascimentos_ate_2010\n",
       "1111664       3304557   Maria                           307018\n",
       "1102623       3304557     Ana                           120449\n",
       "1109597       3304557    Jose                           118239\n",
       "1109351       3304557    Joao                            78940\n",
       "1103650       3304557  Carlos                            73759"
      ]
     },
     "execution_count": 145,
     "metadata": {},
     "output_type": "execute_result"
    }
   ],
   "source": [
    "df2.head()"
   ]
  },
  {
   "cell_type": "code",
   "execution_count": 146,
   "id": "4c45910e",
   "metadata": {},
   "outputs": [
    {
     "name": "stdout",
     "output_type": "stream",
     "text": [
      "id_municipio                        int64\n",
      "nome                               object\n",
      "quantidade_nascimentos_ate_2010     int64\n",
      "dtype: object\n"
     ]
    }
   ],
   "source": [
    "result = df2.dtypes\n",
    "print(result)"
   ]
  },
  {
   "cell_type": "code",
   "execution_count": 201,
   "id": "df1c66f1",
   "metadata": {},
   "outputs": [],
   "source": [
    "df2['nome'] = df2['nome'].astype('string')"
   ]
  },
  {
   "cell_type": "code",
   "execution_count": 202,
   "id": "30431e06",
   "metadata": {},
   "outputs": [
    {
     "name": "stdout",
     "output_type": "stream",
     "text": [
      "<class 'pandas.core.frame.DataFrame'>\n",
      "Int64Index: 15270 entries, 1111664 to 1116852\n",
      "Data columns (total 3 columns):\n",
      " #   Column                           Non-Null Count  Dtype \n",
      "---  ------                           --------------  ----- \n",
      " 0   id_municipio                     15270 non-null  int64 \n",
      " 1   nome                             15270 non-null  string\n",
      " 2   quantidade_nascimentos_ate_2010  15270 non-null  int64 \n",
      "dtypes: int64(2), string(1)\n",
      "memory usage: 477.2 KB\n"
     ]
    }
   ],
   "source": [
    "df2.info()"
   ]
  },
  {
   "cell_type": "code",
   "execution_count": 203,
   "id": "bf5f3bd5",
   "metadata": {},
   "outputs": [],
   "source": [
    "df3 = df2[df2['nome'].map(lambda x: len(str(x)) < 4)]"
   ]
  },
  {
   "cell_type": "code",
   "execution_count": 218,
   "id": "43c9d5fc",
   "metadata": {},
   "outputs": [
    {
     "data": {
      "text/html": [
       "<div>\n",
       "<style scoped>\n",
       "    .dataframe tbody tr th:only-of-type {\n",
       "        vertical-align: middle;\n",
       "    }\n",
       "\n",
       "    .dataframe tbody tr th {\n",
       "        vertical-align: top;\n",
       "    }\n",
       "\n",
       "    .dataframe thead th {\n",
       "        text-align: right;\n",
       "    }\n",
       "</style>\n",
       "<table border=\"1\" class=\"dataframe\">\n",
       "  <thead>\n",
       "    <tr style=\"text-align: right;\">\n",
       "      <th></th>\n",
       "      <th>id_municipio</th>\n",
       "      <th>nome</th>\n",
       "      <th>quantidade_nascimentos_ate_2010</th>\n",
       "    </tr>\n",
       "  </thead>\n",
       "  <tbody>\n",
       "    <tr>\n",
       "      <th>1102623</th>\n",
       "      <td>3304557</td>\n",
       "      <td>Ana</td>\n",
       "      <td>120449</td>\n",
       "    </tr>\n",
       "    <tr>\n",
       "      <th>1116617</th>\n",
       "      <td>3304557</td>\n",
       "      <td>Yan</td>\n",
       "      <td>2388</td>\n",
       "    </tr>\n",
       "    <tr>\n",
       "      <th>1110570</th>\n",
       "      <td>3304557</td>\n",
       "      <td>Lea</td>\n",
       "      <td>2306</td>\n",
       "    </tr>\n",
       "    <tr>\n",
       "      <th>1106615</th>\n",
       "      <td>3304557</td>\n",
       "      <td>Eva</td>\n",
       "      <td>2148</td>\n",
       "    </tr>\n",
       "    <tr>\n",
       "      <th>1112012</th>\n",
       "      <td>3304557</td>\n",
       "      <td>Max</td>\n",
       "      <td>1781</td>\n",
       "    </tr>\n",
       "    <tr>\n",
       "      <th>1108235</th>\n",
       "      <td>3304557</td>\n",
       "      <td>Ian</td>\n",
       "      <td>1664</td>\n",
       "    </tr>\n",
       "    <tr>\n",
       "      <th>1108755</th>\n",
       "      <td>3304557</td>\n",
       "      <td>Ivo</td>\n",
       "      <td>1584</td>\n",
       "    </tr>\n",
       "    <tr>\n",
       "      <th>1114427</th>\n",
       "      <td>3304557</td>\n",
       "      <td>Rui</td>\n",
       "      <td>1541</td>\n",
       "    </tr>\n",
       "    <tr>\n",
       "      <th>1102956</th>\n",
       "      <td>3304557</td>\n",
       "      <td>Ari</td>\n",
       "      <td>1326</td>\n",
       "    </tr>\n",
       "    <tr>\n",
       "      <th>1105812</th>\n",
       "      <td>3304557</td>\n",
       "      <td>Eli</td>\n",
       "      <td>1293</td>\n",
       "    </tr>\n",
       "  </tbody>\n",
       "</table>\n",
       "</div>"
      ],
      "text/plain": [
       "         id_municipio nome  quantidade_nascimentos_ate_2010\n",
       "1102623       3304557  Ana                           120449\n",
       "1116617       3304557  Yan                             2388\n",
       "1110570       3304557  Lea                             2306\n",
       "1106615       3304557  Eva                             2148\n",
       "1112012       3304557  Max                             1781\n",
       "1108235       3304557  Ian                             1664\n",
       "1108755       3304557  Ivo                             1584\n",
       "1114427       3304557  Rui                             1541\n",
       "1102956       3304557  Ari                             1326\n",
       "1105812       3304557  Eli                             1293"
      ]
     },
     "execution_count": 218,
     "metadata": {},
     "output_type": "execute_result"
    }
   ],
   "source": [
    "df3 = df3.nlargest(10, ['quantidade_nascimentos_ate_2010'])\n",
    "df3.head(10)"
   ]
  },
  {
   "cell_type": "code",
   "execution_count": 256,
   "id": "a3bee8f7",
   "metadata": {},
   "outputs": [
    {
     "data": {
      "image/png": "[encoded data removed]",
      "text/plain": [
       "<Figure size 720x432 with 1 Axes>"
      ]
     },
     "metadata": {},
     "output_type": "display_data"
    }
   ],
   "source": [
    "fig = plt.figure(figsize = (10,6), facecolor = \"#F2DFCE\")\n",
    "ax=plt.axes()\n",
    "plt.barh(df3['nome'], df3['quantidade_nascimentos_ate_2010'], color = \"#0D7680\")\n",
    "plt.title(\"Quantidade de pessoas com nomes de até três letras e nascidas até 2010\\n no município do Rio de Janeiro\", \n",
    "          size = '12', fontweight = \"bold\", fontname = \"sans\")\n",
    "plt.xticks(fontsize = 8, fontweight = \"bold\")\n",
    "plt.yticks(fontsize = 8, fontweight = \"bold\")\n",
    "plt.xlabel(\"Quantidade de nascimentos até 2010 com nomes de até três letras\", fontname=\"Sans\", size='8',fontweight=\"bold\")\n",
    "plt.ylabel(\"Nomes\", fontname=\"Sans\", size='8',fontweight=\"bold\")\n",
    "plt.tick_params(bottom=False)\n",
    "plt.tick_params(left=False)\n",
    "plt.text(6, -2, '@rafaelf_lima', size = '6.5')\n",
    "plt.text(100000, -2, 'Fonte: IBGE, basededados.org', size = '6.5')\n",
    "plt.grid(alpha = .2)\n",
    "ax.set_facecolor(\"#FFF1E0\")\n",
    "plt.savefig(\"analisenomes.png\", dpi = 100)\n",
    "plt.show()"
   ]
  }
 ],
 "metadata": {
  "kernelspec": {
   "display_name": "Python 3 (ipykernel)",
   "language": "python",
   "name": "python3"
  },
  "language_info": {
   "codemirror_mode": {
    "name": "ipython",
    "version": 3
   },
   "file_extension": ".py",
   "mimetype": "text/x-python",
   "name": "python",
   "nbconvert_exporter": "python",
   "pygments_lexer": "ipython3",
   "version": "3.9.12"
  }
 },
 "nbformat": 4,
 "nbformat_minor": 5
}
